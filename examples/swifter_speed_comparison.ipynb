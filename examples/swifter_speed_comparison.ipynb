{
 "cells": [
  {
   "cell_type": "markdown",
   "metadata": {},
   "source": [
    "# Imports and data\n",
    "The libraries used in this notebook are available by calling `pipenv install --dev` in the top-level of the repository.\n",
    "Once installed, you can call `pipenv run jupyter-notebook` to open your Jupyter workspace, navigate to `examples/swifter_speed_comparison.ipynb` and run the cells."
   ]
  },
  {
   "cell_type": "code",
   "execution_count": 4,
   "metadata": {
    "ExecuteTime": {
     "end_time": "2020-03-28T19:51:04.084151Z",
     "start_time": "2020-03-28T19:51:02.672026Z"
    }
   },
   "outputs": [],
   "source": [
    "import numpy as np\n",
    "import pandas as pd\n",
    "import dask.dataframe as dd\n",
    "import swifter\n",
    "import perfplot\n",
    "import matplotlib.pyplot as plt"
   ]
  },
  {
   "cell_type": "markdown",
   "metadata": {},
   "source": [
    "These data (~71 million rows) were taken from https://www.kaggle.com/benhamner/sf-bay-area-bike-share/data.\n",
    "In order to run the speed comparisons in this notebook yourself, you will need to download the data from that location, and unzip the file into the the `examples` directory."
   ]
  },
  {
   "cell_type": "code",
   "execution_count": 5,
   "metadata": {
    "ExecuteTime": {
     "end_time": "2020-03-28T19:52:53.914710Z",
     "start_time": "2020-03-28T19:51:04.834882Z"
    }
   },
   "outputs": [],
   "source": [
    "data = pd.read_csv('status.csv')\n",
    "data['date'] = pd.to_datetime(data['time'])"
   ]
  },
  {
   "cell_type": "code",
   "execution_count": 6,
   "metadata": {
    "ExecuteTime": {
     "end_time": "2020-03-28T19:52:54.031235Z",
     "start_time": "2020-03-28T19:52:53.928589Z"
    }
   },
   "outputs": [
    {
     "name": "stdout",
     "output_type": "stream",
     "text": [
      "(71984434, 5)\n"
     ]
    },
    {
     "data": {
      "text/html": [
       "<div>\n",
       "<style scoped>\n",
       "    .dataframe tbody tr th:only-of-type {\n",
       "        vertical-align: middle;\n",
       "    }\n",
       "\n",
       "    .dataframe tbody tr th {\n",
       "        vertical-align: top;\n",
       "    }\n",
       "\n",
       "    .dataframe thead th {\n",
       "        text-align: right;\n",
       "    }\n",
       "</style>\n",
       "<table border=\"1\" class=\"dataframe\">\n",
       "  <thead>\n",
       "    <tr style=\"text-align: right;\">\n",
       "      <th></th>\n",
       "      <th>station_id</th>\n",
       "      <th>bikes_available</th>\n",
       "      <th>docks_available</th>\n",
       "      <th>time</th>\n",
       "      <th>date</th>\n",
       "    </tr>\n",
       "  </thead>\n",
       "  <tbody>\n",
       "    <tr>\n",
       "      <th>0</th>\n",
       "      <td>2</td>\n",
       "      <td>2</td>\n",
       "      <td>25</td>\n",
       "      <td>2013/08/29 12:06:01</td>\n",
       "      <td>2013-08-29 12:06:01</td>\n",
       "    </tr>\n",
       "    <tr>\n",
       "      <th>1</th>\n",
       "      <td>2</td>\n",
       "      <td>2</td>\n",
       "      <td>25</td>\n",
       "      <td>2013/08/29 12:07:01</td>\n",
       "      <td>2013-08-29 12:07:01</td>\n",
       "    </tr>\n",
       "    <tr>\n",
       "      <th>2</th>\n",
       "      <td>2</td>\n",
       "      <td>2</td>\n",
       "      <td>25</td>\n",
       "      <td>2013/08/29 12:08:01</td>\n",
       "      <td>2013-08-29 12:08:01</td>\n",
       "    </tr>\n",
       "    <tr>\n",
       "      <th>3</th>\n",
       "      <td>2</td>\n",
       "      <td>2</td>\n",
       "      <td>25</td>\n",
       "      <td>2013/08/29 12:09:01</td>\n",
       "      <td>2013-08-29 12:09:01</td>\n",
       "    </tr>\n",
       "    <tr>\n",
       "      <th>4</th>\n",
       "      <td>2</td>\n",
       "      <td>2</td>\n",
       "      <td>25</td>\n",
       "      <td>2013/08/29 12:10:01</td>\n",
       "      <td>2013-08-29 12:10:01</td>\n",
       "    </tr>\n",
       "  </tbody>\n",
       "</table>\n",
       "</div>"
      ],
      "text/plain": [
       "   station_id  bikes_available  docks_available                 time  \\\n",
       "0           2                2               25  2013/08/29 12:06:01   \n",
       "1           2                2               25  2013/08/29 12:07:01   \n",
       "2           2                2               25  2013/08/29 12:08:01   \n",
       "3           2                2               25  2013/08/29 12:09:01   \n",
       "4           2                2               25  2013/08/29 12:10:01   \n",
       "\n",
       "                 date  \n",
       "0 2013-08-29 12:06:01  \n",
       "1 2013-08-29 12:07:01  \n",
       "2 2013-08-29 12:08:01  \n",
       "3 2013-08-29 12:09:01  \n",
       "4 2013-08-29 12:10:01  "
      ]
     },
     "execution_count": 6,
     "metadata": {},
     "output_type": "execute_result"
    }
   ],
   "source": [
    "print(data.shape)\n",
    "data.head()"
   ]
  },
  {
   "cell_type": "markdown",
   "metadata": {},
   "source": [
    "# Function Definitions"
   ]
  },
  {
   "cell_type": "markdown",
   "metadata": {},
   "source": [
    "## Vectorized function\n",
    "This function doesn't contain any control-flow logic e.g. if/else and is simply a numeric computation.\n",
    "\n",
    "\n",
    "As such, we can call it in a vectorized fashion e.g. `bikes_proportion(df[\"bikes_available\"], max_x=np.max(data[\"bikes_available\"]))`"
   ]
  },
  {
   "cell_type": "code",
   "execution_count": 7,
   "metadata": {
    "ExecuteTime": {
     "end_time": "2020-03-28T19:52:54.036930Z",
     "start_time": "2020-03-28T19:52:54.034241Z"
    }
   },
   "outputs": [],
   "source": [
    "def bikes_proportion(x, max_x):\n",
    "    return x * 1.0 / max_x"
   ]
  },
  {
   "cell_type": "markdown",
   "metadata": {},
   "source": [
    "## Non-vectorized function\n",
    "This function does contain a control-flow logic e.g. if/else and therefore cannot be called in a vectorized sense.\n",
    "\n",
    "As such, we can't include the vectorized comparison in our perfplot."
   ]
  },
  {
   "cell_type": "code",
   "execution_count": 8,
   "metadata": {
    "ExecuteTime": {
     "end_time": "2020-03-28T19:52:54.044584Z",
     "start_time": "2020-03-28T19:52:54.039478Z"
    }
   },
   "outputs": [],
   "source": [
    "def is_morning(datetime):\n",
    "    if (datetime.hour >= 6) and (datetime.hour < 12):\n",
    "        return True\n",
    "    else:\n",
    "        return False"
   ]
  },
  {
   "cell_type": "markdown",
   "metadata": {},
   "source": [
    "# Perfplot\n",
    "[Perfplot](https://github.com/unutbu/perfplot) is a library for performing speed comparisons of various functions.\n",
    "\n",
    "Here we use perfplot to compare pandas apply, dask apply, vectorized functions, and swifter apply."
   ]
  },
  {
   "cell_type": "markdown",
   "metadata": {},
   "source": [
    "## Vectorized function speed comparison"
   ]
  },
  {
   "cell_type": "code",
   "execution_count": 9,
   "metadata": {
    "ExecuteTime": {
     "end_time": "2020-03-28T20:07:57.268051Z",
     "start_time": "2020-03-28T19:52:54.046772Z"
    }
   },
   "outputs": [
    {
     "name": "stderr",
     "output_type": "stream",
     "text": [
      "  0%|          | 0/9 [00:00<?, ?it/s]\n",
      "  0%|          | 0/4 [00:00<?, ?it/s]\u001b[A\n",
      " 25%|██▌       | 1/4 [00:01<00:03,  1.03s/it]\u001b[A\n",
      " 50%|█████     | 2/4 [00:02<00:02,  1.05s/it]\u001b[A\n",
      " 75%|███████▌  | 3/4 [00:03<00:01,  1.06s/it]\u001b[A\n",
      "100%|██████████| 4/4 [00:04<00:00,  1.05s/it]\u001b[A\n",
      " 11%|█         | 1/9 [00:04<00:38,  4.87s/it]\u001b[A\n",
      "  0%|          | 0/4 [00:00<?, ?it/s]\u001b[A\n",
      " 25%|██▌       | 1/4 [00:01<00:03,  1.11s/it]\u001b[A\n",
      " 50%|█████     | 2/4 [00:02<00:02,  1.12s/it]\u001b[A\n",
      " 75%|███████▌  | 3/4 [00:03<00:01,  1.13s/it]\u001b[A\n",
      "100%|██████████| 4/4 [00:04<00:00,  1.10s/it]\u001b[A\n",
      " 22%|██▏       | 2/9 [00:09<00:33,  4.76s/it]\u001b[A\n",
      "  0%|          | 0/4 [00:00<?, ?it/s]\u001b[A\n",
      " 25%|██▌       | 1/4 [00:01<00:03,  1.12s/it]\u001b[A\n",
      " 50%|█████     | 2/4 [00:02<00:02,  1.12s/it]\u001b[A\n",
      " 75%|███████▌  | 3/4 [00:03<00:01,  1.11s/it]\u001b[A\n",
      "100%|██████████| 4/4 [00:04<00:00,  1.12s/it]\u001b[A\n",
      " 33%|███▎      | 3/9 [00:13<00:28,  4.70s/it]\u001b[A\n",
      "  0%|          | 0/4 [00:00<?, ?it/s]\u001b[A\n",
      " 25%|██▌       | 1/4 [00:01<00:04,  1.37s/it]\u001b[A\n",
      " 50%|█████     | 2/4 [00:02<00:02,  1.29s/it]\u001b[A\n",
      " 75%|███████▌  | 3/4 [00:03<00:01,  1.24s/it]\u001b[A\n",
      "100%|██████████| 4/4 [00:04<00:00,  1.18s/it]\u001b[A\n",
      " 44%|████▍     | 4/9 [00:18<00:23,  4.74s/it]\u001b[A\n",
      "  0%|          | 0/4 [00:00<?, ?it/s]\u001b[A\n",
      " 25%|██▌       | 1/4 [00:01<00:05,  1.96s/it]\u001b[A\n",
      " 50%|█████     | 2/4 [00:03<00:03,  1.70s/it]\u001b[A\n",
      " 75%|███████▌  | 3/4 [00:04<00:01,  1.53s/it]\u001b[A\n",
      "100%|██████████| 4/4 [00:05<00:00,  1.41s/it]\u001b[A\n",
      " 56%|█████▌    | 5/9 [00:24<00:20,  5.10s/it]\u001b[A\n",
      "  0%|          | 0/4 [00:00<?, ?it/s]\u001b[A\n",
      " 25%|██▌       | 1/4 [00:07<00:22,  7.54s/it]\u001b[A\n",
      " 50%|█████     | 2/4 [00:08<00:11,  5.62s/it]\u001b[A\n",
      " 75%|███████▌  | 3/4 [00:09<00:04,  4.25s/it]\u001b[A\n",
      "100%|██████████| 4/4 [00:10<00:00,  3.28s/it]\u001b[A\n",
      " 67%|██████▋   | 6/9 [00:38<00:22,  7.58s/it]\u001b[A\n",
      "  0%|          | 0/4 [00:00<?, ?it/s]\u001b[A\n",
      " 25%|██▌       | 1/4 [00:30<01:30, 30.11s/it]\u001b[A\n",
      " 50%|█████     | 2/4 [00:31<00:42, 21.47s/it]\u001b[A\n",
      " 75%|███████▌  | 3/4 [00:32<00:15, 15.36s/it]\u001b[A\n",
      "100%|██████████| 4/4 [00:33<00:00, 11.08s/it]\u001b[A\n",
      " 78%|███████▊  | 7/9 [01:21<00:36, 18.43s/it]\u001b[A\n",
      "  0%|          | 0/4 [00:00<?, ?it/s]\u001b[A\n",
      " 25%|██▌       | 1/4 [01:59<05:59, 119.92s/it]\u001b[A\n",
      " 50%|█████     | 2/4 [02:02<02:49, 84.57s/it] \u001b[A\n",
      " 75%|███████▌  | 3/4 [02:03<00:59, 59.67s/it]\u001b[A\n",
      "100%|██████████| 4/4 [02:05<00:00, 42.26s/it]\u001b[A\n",
      " 89%|████████▉ | 8/9 [04:07<01:02, 62.50s/it]\u001b[A\n",
      "  0%|          | 0/4 [00:00<?, ?it/s]\u001b[A\n",
      " 25%|██▌       | 1/4 [08:00<24:02, 480.83s/it]\u001b[A\n",
      " 50%|█████     | 2/4 [08:06<11:16, 338.36s/it]\u001b[A\n",
      " 75%|███████▌  | 3/4 [08:09<03:57, 237.69s/it]\u001b[A\n",
      "100%|██████████| 4/4 [08:12<00:00, 123.05s/it]\u001b[A\n",
      "100%|██████████| 9/9 [15:03<00:00, 100.35s/it]\n"
     ]
    }
   ],
   "source": [
    "vectorized_comparison = perfplot.bench(\n",
    "    setup=lambda n: data.loc[:n, 'bikes_available'],\n",
    "    kernels=[\n",
    "        lambda df: df.apply(bikes_proportion, max_x=np.max(data['bikes_available'])),\n",
    "        lambda df: dd.from_pandas(df, npartitions=12).map_partitions(bikes_proportion, max_x=np.max(data['bikes_available']), meta=('f8')).compute(scheduler='threads'),\n",
    "        lambda df: bikes_proportion(df, max_x=np.max(data['bikes_available'])),\n",
    "        lambda df: df.swifter.progress_bar(False).apply(bikes_proportion, max_x=np.max(data['bikes_available']))\n",
    "    ],\n",
    "    labels=['Pandas Apply', 'Dask Apply', 'Vectorized Function', 'Swifter Apply'],\n",
    "    n_range=[2**k for k in range(10, 28, 2)],\n",
    "    xlabel='n_rows'\n",
    ")"
   ]
  },
  {
   "cell_type": "code",
   "execution_count": 10,
   "metadata": {
    "ExecuteTime": {
     "end_time": "2020-03-28T20:07:58.024441Z",
     "start_time": "2020-03-28T20:07:57.274743Z"
    }
   },
   "outputs": [
    {
     "data": {
      "image/png": "[encoded data removed]",
      "text/plain": [
       "<Figure size 432x288 with 1 Axes>"
      ]
     },
     "metadata": {
      "needs_background": "light"
     },
     "output_type": "display_data"
    }
   ],
   "source": [
    "vectorized_comparison.title = \"Vectorized Function Speed Comparison\"\n",
    "vectorized_comparison.xlabel = \"n_rows\"\n",
    "vectorized_comparison.plot(logx=False, logy=False)"
   ]
  },
  {
   "cell_type": "code",
   "execution_count": 11,
   "metadata": {
    "ExecuteTime": {
     "end_time": "2020-03-28T20:07:58.692724Z",
     "start_time": "2020-03-28T20:07:58.025838Z"
    }
   },
   "outputs": [
    {
     "data": {
      "text/plain": [
       "Text(0, 0.5, 'Runtime [log10(s)]')"
      ]
     },
     "execution_count": 11,
     "metadata": {},
     "output_type": "execute_result"
    },
    {
     "data": {
      "image/png": "[encoded data removed]",
      "text/plain": [
       "<Figure size 432x288 with 1 Axes>"
      ]
     },
     "metadata": {
      "needs_background": "light"
     },
     "output_type": "display_data"
    }
   ],
   "source": [
    "vectorized_comparison.xlabel = 'log10(n_rows)'\n",
    "vectorized_comparison.title = 'Vectorized Function Speed Comparison [LogLog Plot]'\n",
    "vectorized_comparison.plot(logx=True, logy=True, time_unit='s')\n",
    "plt.ylabel(\"Runtime [log10(s)]\")"
   ]
  },
  {
   "cell_type": "markdown",
   "metadata": {},
   "source": [
    "## Non-vectorized function speed comparison"
   ]
  },
  {
   "cell_type": "code",
   "execution_count": 15,
   "metadata": {
    "ExecuteTime": {
     "end_time": "2020-03-28T20:09:57.997221Z",
     "start_time": "2020-03-28T20:08:52.774840Z"
    }
   },
   "outputs": [
    {
     "name": "stderr",
     "output_type": "stream",
     "text": [
      "\n",
      "\n",
      "  0%|          | 0/9 [00:00<?, ?it/s]\u001b[A\u001b[A\n",
      "\n",
      "\n",
      "  0%|          | 0/3 [00:00<?, ?it/s]\u001b[A\u001b[A\u001b[A\n",
      "\n",
      "\n",
      " 33%|███▎      | 1/3 [00:00<00:01,  1.13it/s]\u001b[A\u001b[A\u001b[A\n",
      "\n",
      "\n",
      " 67%|██████▋   | 2/3 [00:01<00:00,  1.11it/s]\u001b[A\u001b[A\u001b[A\n",
      "\n",
      "\n",
      "100%|██████████| 3/3 [00:02<00:00,  1.12it/s]\u001b[A\u001b[A\u001b[A\n",
      "\n",
      "\n",
      "                                             \u001b[A\u001b[A\u001b[A\n",
      "\n",
      " 11%|█         | 1/9 [00:02<00:21,  2.71s/it]\u001b[A\u001b[A\n",
      "\n",
      "\n",
      "  0%|          | 0/3 [00:00<?, ?it/s]\u001b[A\u001b[A\u001b[A\n",
      "\n",
      "\n",
      " 33%|███▎      | 1/3 [00:00<00:01,  1.04it/s]\u001b[A\u001b[A\u001b[A\n",
      "\n",
      "\n",
      " 67%|██████▋   | 2/3 [00:01<00:00,  1.03it/s]\u001b[A\u001b[A\u001b[A\n",
      "\n",
      "\n",
      "100%|██████████| 3/3 [00:02<00:00,  1.01it/s]\u001b[A\u001b[A\u001b[A\n",
      "\n",
      "\n",
      "                                             \u001b[A\u001b[A\u001b[A\n",
      "\n",
      " 22%|██▏       | 2/9 [00:05<00:19,  2.80s/it]\u001b[A\u001b[A\n",
      "\n",
      "\n",
      "  0%|          | 0/3 [00:00<?, ?it/s]\u001b[A\u001b[A\u001b[A\n",
      "\n",
      "\n",
      " 33%|███▎      | 1/3 [00:01<00:02,  1.01s/it]\u001b[A\u001b[A\u001b[A\n",
      "\n",
      "\n",
      " 67%|██████▋   | 2/3 [00:02<00:01,  1.03s/it]\u001b[A\u001b[A\u001b[A\n",
      "\n",
      "\n",
      "100%|██████████| 3/3 [00:03<00:00,  1.04s/it]\u001b[A\u001b[A\u001b[A\n",
      "\n",
      "\n",
      "                                             \u001b[A\u001b[A\u001b[A\n",
      "\n",
      " 33%|███▎      | 3/9 [00:08<00:17,  2.92s/it]\u001b[A\u001b[A\n",
      "\n",
      "\n",
      "  0%|          | 0/3 [00:00<?, ?it/s]\u001b[A\u001b[A\u001b[A\n",
      "\n",
      "\n",
      " 33%|███▎      | 1/3 [00:01<00:02,  1.36s/it]\u001b[A\u001b[A\u001b[A\n",
      "\n",
      "\n",
      " 67%|██████▋   | 2/3 [00:02<00:01,  1.34s/it]\u001b[A\u001b[A\u001b[A\n",
      "\n",
      "\n",
      "100%|██████████| 3/3 [00:03<00:00,  1.32s/it]\u001b[A\u001b[A\u001b[A\n",
      "\n",
      "\n",
      "                                             \u001b[A\u001b[A\u001b[A\n",
      "\n",
      " 44%|████▍     | 4/9 [00:13<00:16,  3.29s/it]\u001b[A\u001b[A\n",
      "\n",
      "\n",
      "  0%|          | 0/3 [00:00<?, ?it/s]\u001b[A\u001b[A\u001b[A\n",
      "\n",
      "\n",
      " 33%|███▎      | 1/3 [00:02<00:04,  2.12s/it]\u001b[A\u001b[A\u001b[A\n",
      "\n",
      "\n",
      " 67%|██████▋   | 2/3 [00:04<00:02,  2.13s/it]\u001b[A\u001b[A\u001b[A\n",
      "\n",
      "\n",
      "100%|██████████| 3/3 [00:06<00:00,  2.18s/it]\u001b[A\u001b[A\u001b[A\n",
      "\n",
      "\n",
      "                                             \u001b[A\u001b[A\u001b[A\n",
      "\n",
      " 56%|█████▌    | 5/9 [00:20<00:18,  4.53s/it]\u001b[A\u001b[A\n",
      "\n",
      "\n",
      "  0%|          | 0/3 [00:00<?, ?it/s]\u001b[A\u001b[A\u001b[A\n",
      "\n",
      "\n",
      " 33%|███▎      | 1/3 [00:08<00:17,  8.62s/it]\u001b[A\u001b[A\u001b[A\n",
      "\n",
      "\n",
      " 67%|██████▋   | 2/3 [00:21<00:09,  9.77s/it]\u001b[A\u001b[A\u001b[A"
     ]
    }
   ],
   "source": [
    "nonvectorized_comparison = perfplot.bench(\n",
    "    setup=lambda n: data.loc[:n, 'date'],\n",
    "    kernels=[\n",
    "        lambda df: df.apply(is_morning),\n",
    "        lambda df: dd.from_pandas(df, npartitions=12).apply(is_morning, meta=(bool)).compute(scheduler='threads'),\n",
    "        lambda df: df.swifter.progress_bar(False).apply(is_morning)\n",
    "    ],\n",
    "    labels=['Pandas Apply', 'Dask Apply', 'Swifter Apply'],\n",
    "    n_range=[2**k for k in range(10, 28, 2)],\n",
    "    xlabel='n_rows'\n",
    ")"
   ]
  },
  {
   "cell_type": "code",
   "execution_count": 16,
   "metadata": {
    "ExecuteTime": {
     "end_time": "2020-03-28T20:09:58.526386Z",
     "start_time": "2020-03-28T20:09:58.000854Z"
    }
   },
   "outputs": [
    {
     "data": {
      "image/png": "[encoded data removed]",
      "text/plain": [
       "<Figure size 432x288 with 1 Axes>"
      ]
     },
     "metadata": {
      "needs_background": "light"
     },
     "output_type": "display_data"
    }
   ],
   "source": [
    "nonvectorized_comparison.title = \"Non-Vectorized Function Speed Comparison\"\n",
    "nonvectorized_comparison.xlabel = \"n_rows\"\n",
    "nonvectorized_comparison.plot(logx=False, logy=False)"
   ]
  },
  {
   "cell_type": "code",
   "execution_count": 17,
   "metadata": {
    "ExecuteTime": {
     "end_time": "2020-03-28T20:09:59.807236Z",
     "start_time": "2020-03-28T20:09:58.575141Z"
    }
   },
   "outputs": [
    {
     "data": {
      "text/plain": [
       "Text(0, 0.5, 'Runtime [log10(s)]')"
      ]
     },
     "execution_count": 17,
     "metadata": {},
     "output_type": "execute_result"
    },
    {
     "data": {
      "image/png": "[encoded data removed]",
      "text/plain": [
       "<Figure size 432x288 with 1 Axes>"
      ]
     },
     "metadata": {
      "needs_background": "light"
     },
     "output_type": "display_data"
    }
   ],
   "source": [
    "nonvectorized_comparison.xlabel = 'log10(n_rows)'\n",
    "nonvectorized_comparison.title = 'Non-Vectorized Function Speed Comparison [LogLog Plot]'\n",
    "nonvectorized_comparison.plot(logx=True, logy=True, time_unit='s')\n",
    "plt.ylabel(\"Runtime [log10(s)]\")"
   ]
  }
 ],
 "metadata": {
  "kernelspec": {
   "display_name": "Python 3",
   "language": "python",
   "name": "python3"
  },
  "language_info": {
   "codemirror_mode": {
    "name": "ipython",
    "version": 3
   },
   "file_extension": ".py",
   "mimetype": "text/x-python",
   "name": "python",
   "nbconvert_exporter": "python",
   "pygments_lexer": "ipython3",
   "version": "3.7.6"
  },
  "toc": {
   "base_numbering": 1,
   "nav_menu": {},
   "number_sections": true,
   "sideBar": true,
   "skip_h1_title": false,
   "title_cell": "Table of Contents",
   "title_sidebar": "Contents",
   "toc_cell": false,
   "toc_position": {},
   "toc_section_display": true,
   "toc_window_display": false
  }
 },
 "nbformat": 4,
 "nbformat_minor": 2
}
